{
 "cells": [
  {
   "cell_type": "markdown",
   "metadata": {},
   "source": [
    "# Inferencia\n",
    "\n",
    "## Ejemplo 9 \n",
    "\n",
    "Página 17 notas."
   ]
  },
  {
   "cell_type": "code",
   "execution_count": 1,
   "metadata": {},
   "outputs": [],
   "source": [
    "from sympy import *\n",
    "init_printing()\n",
    "x, θ = symbols(\"x, θ\")"
   ]
  },
  {
   "cell_type": "code",
   "execution_count": 2,
   "metadata": {},
   "outputs": [
    {
     "data": {
      "image/png": "[encoded data removed]",
      "text/latex": [
       "$$x \\log{\\left (θ \\right )} + \\left(- x + 1\\right) \\log{\\left (- θ + 1 \\right )}$$"
      ],
      "text/plain": [
       "x⋅log(θ) + (-x + 1)⋅log(-θ + 1)"
      ]
     },
     "execution_count": 2,
     "metadata": {},
     "output_type": "execute_result"
    }
   ],
   "source": [
    "log_f_x = x*log(θ) + (1-x)*log(1-θ)\n",
    "log_f_x"
   ]
  },
  {
   "cell_type": "code",
   "execution_count": 4,
   "metadata": {},
   "outputs": [
    {
     "data": {
      "image/png": "[encoded data removed]",
      "text/latex": [
       "$$\\frac{x}{θ} - \\frac{- x + 1}{- θ + 1}$$"
      ],
      "text/plain": [
       "x   -x + 1\n",
       "─ - ──────\n",
       "θ   -θ + 1"
      ]
     },
     "execution_count": 4,
     "metadata": {},
     "output_type": "execute_result"
    }
   ],
   "source": [
    "diff(log_f_x, θ)"
   ]
  },
  {
   "cell_type": "code",
   "execution_count": 3,
   "metadata": {},
   "outputs": [
    {
     "data": {
      "image/png": "[encoded data removed]",
      "text/latex": [
       "$$- \\frac{x}{θ^{2}} - \\frac{- x + 1}{\\left(- θ + 1\\right)^{2}}$$"
      ],
      "text/plain": [
       "  x      -x + 1 \n",
       "- ── - ─────────\n",
       "   2           2\n",
       "  θ    (-θ + 1) "
      ]
     },
     "execution_count": 3,
     "metadata": {},
     "output_type": "execute_result"
    }
   ],
   "source": [
    "diff(diff(log_f_x, θ), θ)"
   ]
  },
  {
   "cell_type": "markdown",
   "metadata": {},
   "source": [
    "## Monte Carlo via Markov Chains"
   ]
  },
  {
   "cell_type": "code",
   "execution_count": 44,
   "metadata": {},
   "outputs": [
    {
     "data": {
      "image/png": "[encoded data removed]",
      "text/latex": [
       "$$- \\left(x - 1\\right)^{2} + 5$$"
      ],
      "text/plain": [
       "         2    \n",
       "- (x - 1)  + 5"
      ]
     },
     "execution_count": 44,
     "metadata": {},
     "output_type": "execute_result"
    }
   ],
   "source": [
    "f_x = 5 - (x-1)**2\n",
    "f_x"
   ]
  },
  {
   "cell_type": "code",
   "execution_count": 47,
   "metadata": {},
   "outputs": [
    {
     "data": {
      "image/png": "[encoded data removed]",
      "text/latex": [
       "$$- \\frac{x^{3}}{3} + x^{2} + 4 x$$"
      ],
      "text/plain": [
       "   3           \n",
       "  x     2      \n",
       "- ── + x  + 4⋅x\n",
       "  3            "
      ]
     },
     "execution_count": 47,
     "metadata": {},
     "output_type": "execute_result"
    }
   ],
   "source": [
    "int_f_x = integrate(f_x, (x)).doit()\n",
    "int_f_x"
   ]
  },
  {
   "cell_type": "code",
   "execution_count": 46,
   "metadata": {},
   "outputs": [
    {
     "data": {
      "image/png": "[encoded data removed]",
      "text/latex": [
       "$$- \\frac{44}{3}$$"
      ],
      "text/plain": [
       "-44/3"
      ]
     },
     "execution_count": 46,
     "metadata": {},
     "output_type": "execute_result"
    }
   ],
   "source": [
    "int_f_x = integrate(f_x, (x, 3, -1)).doit()\n",
    "int_f_x"
   ]
  },
  {
   "cell_type": "code",
   "execution_count": 32,
   "metadata": {},
   "outputs": [
    {
     "data": {
      "image/png": "[encoded data removed]",
      "text/latex": [
       "$$-14.6666666666667$$"
      ],
      "text/plain": [
       "-14.6666666666667"
      ]
     },
     "execution_count": 32,
     "metadata": {},
     "output_type": "execute_result"
    }
   ],
   "source": [
    "int_f_x.n()"
   ]
  },
  {
   "cell_type": "code",
   "execution_count": 34,
   "metadata": {},
   "outputs": [
    {
     "data": {
      "image/png": "[encoded data removed]",
      "text/latex": [
       "$$x$$"
      ],
      "text/plain": [
       "x"
      ]
     },
     "execution_count": 34,
     "metadata": {},
     "output_type": "execute_result"
    }
   ],
   "source": [
    "f_x = x\n",
    "f_x"
   ]
  },
  {
   "cell_type": "markdown",
   "metadata": {},
   "source": [
    "### Los Informáticos"
   ]
  },
  {
   "cell_type": "code",
   "execution_count": 3,
   "metadata": {},
   "outputs": [],
   "source": [
    "from sympy import *\n",
    "init_printing()\n",
    "x, θ = symbols(\"x, θ\")"
   ]
  },
  {
   "cell_type": "code",
   "execution_count": 11,
   "metadata": {},
   "outputs": [
    {
     "data": {
      "image/png": "[encoded data removed]",
      "text/latex": [
       "$$\\frac{\\cos{\\left (x \\right )}}{\\sqrt{- x^{2} + 1} \\log{\\left (\\frac{1}{\\pi} \\sin{\\left (2 x \\sqrt{- x^{2} + 1} \\right )} + 1 \\right )}}$$"
      ],
      "text/plain": [
       "                    cos(x)                   \n",
       "─────────────────────────────────────────────\n",
       "                 ⎛   ⎛       __________⎞    ⎞\n",
       "   __________    ⎜   ⎜      ╱    2     ⎟    ⎟\n",
       "  ╱    2         ⎜sin⎝2⋅x⋅╲╱  - x  + 1 ⎠    ⎟\n",
       "╲╱  - x  + 1 ⋅log⎜────────────────────── + 1⎟\n",
       "                 ⎝          π               ⎠"
      ]
     },
     "execution_count": 11,
     "metadata": {},
     "output_type": "execute_result"
    }
   ],
   "source": [
    "g_x = (cos(x)**-1 * sqrt(1-x**2) )**-1 / log(1+(sin(2*x*sqrt(1-x**2))/(pi)))\n",
    "g_x"
   ]
  },
  {
   "cell_type": "code",
   "execution_count": 12,
   "metadata": {},
   "outputs": [
    {
     "data": {
      "image/png": "[encoded data removed]",
      "text/latex": [
       "$$\\frac{\\cos{\\left (x \\right )}}{\\sqrt{- x^{2} + 1} \\log{\\left (\\frac{1}{\\pi} \\left(\\sin{\\left (2 x \\sqrt{- x^{2} + 1} \\right )} + \\pi\\right) \\right )}}$$"
      ],
      "text/plain": [
       "                    cos(x)                   \n",
       "─────────────────────────────────────────────\n",
       "                 ⎛   ⎛       __________⎞    ⎞\n",
       "   __________    ⎜   ⎜      ╱    2     ⎟    ⎟\n",
       "  ╱    2         ⎜sin⎝2⋅x⋅╲╱  - x  + 1 ⎠ + π⎟\n",
       "╲╱  - x  + 1 ⋅log⎜──────────────────────────⎟\n",
       "                 ⎝            π             ⎠"
      ]
     },
     "execution_count": 12,
     "metadata": {},
     "output_type": "execute_result"
    }
   ],
   "source": [
    "h_x = g_x.simplify()\n",
    "h_x"
   ]
  },
  {
   "cell_type": "code",
   "execution_count": null,
   "metadata": {},
   "outputs": [],
   "source": [
    "int_h_x = integrate(h_x, x)\n",
    "int_h_x"
   ]
  },
  {
   "cell_type": "code",
   "execution_count": 17,
   "metadata": {},
   "outputs": [],
   "source": [
    "with open(\"integral_h_x.pickle\", 'wb') as f:\n",
    "    pickle.dump(int_h_x, f)"
   ]
  },
  {
   "cell_type": "code",
   "execution_count": 22,
   "metadata": {},
   "outputs": [],
   "source": [
    "int_h_x2 = None\n",
    "with open(\"integral_h_x.pickle\", 'rb') as f:\n",
    "    int_h_x = pickle.load(f)"
   ]
  },
  {
   "cell_type": "code",
   "execution_count": 42,
   "metadata": {},
   "outputs": [],
   "source": [
    "r_int_h_x = int_h_x.doit()"
   ]
  },
  {
   "cell_type": "code",
   "execution_count": 43,
   "metadata": {},
   "outputs": [],
   "source": [
    "a_0, b_0 = symbols(\"a_0, b_0\")"
   ]
  },
  {
   "cell_type": "code",
   "execution_count": 50,
   "metadata": {},
   "outputs": [],
   "source": [
    "μ = a_0 / (a_0 + b_0) - 0.6\n",
    "σ = (a_0*b_0)/((a_0+b_0)**2*(a_0 + b_0 + 1))-0.04**2"
   ]
  },
  {
   "cell_type": "code",
   "execution_count": 45,
   "metadata": {},
   "outputs": [
    {
     "data": {
      "image/png": "[encoded data removed]",
      "text/latex": [
       "$$\\frac{a_{0}}{a_{0} + b_{0}} - 0.6$$"
      ],
      "text/plain": [
       "   a₀        \n",
       "─────── - 0.6\n",
       "a₀ + b₀      "
      ]
     },
     "execution_count": 45,
     "metadata": {},
     "output_type": "execute_result"
    }
   ],
   "source": [
    "μ"
   ]
  },
  {
   "cell_type": "code",
   "execution_count": 51,
   "metadata": {},
   "outputs": [
    {
     "data": {
      "image/png": "[encoded data removed]",
      "text/latex": [
       "$$\\frac{a_{0} b_{0}}{\\left(a_{0} + b_{0}\\right)^{2} \\left(a_{0} + b_{0} + 1\\right)} - 0.0016$$"
      ],
      "text/plain": [
       "         a₀⋅b₀                   \n",
       "──────────────────────── - 0.0016\n",
       "         2                       \n",
       "(a₀ + b₀) ⋅(a₀ + b₀ + 1)         "
      ]
     },
     "execution_count": 51,
     "metadata": {},
     "output_type": "execute_result"
    }
   ],
   "source": [
    "σ"
   ]
  },
  {
   "cell_type": "code",
   "execution_count": 80,
   "metadata": {},
   "outputs": [
    {
     "data": {
      "image/png": "[encoded data removed]",
      "text/latex": [
       "$$\\left\\{\\left ( 89.4, \\quad 59.6\\right )\\right\\}$$"
      ],
      "text/plain": [
       "{(89.4, 59.6)}"
      ]
     },
     "execution_count": 80,
     "metadata": {},
     "output_type": "execute_result"
    }
   ],
   "source": [
    "a_0, b_0 = symbols(\"a_0, b_0\")\n",
    "μ = a_0 / (a_0 + b_0) - 0.6\n",
    "σ = (a_0*b_0)/((a_0+b_0)**2*(a_0 + b_0 + 1))-0.04**2\n",
    "sol = nonlinsolve([μ,σ], (a_0, b_0))\n",
    "sol"
   ]
  },
  {
   "cell_type": "code",
   "execution_count": 59,
   "metadata": {},
   "outputs": [
    {
     "data": {
      "image/png": "[encoded data removed]",
      "text/latex": [
       "$$\\left\\{\\left ( - y - 1, \\quad y, \\quad 2\\right )\\right\\}$$"
      ],
      "text/plain": [
       "{(-y - 1, y, 2)}"
      ]
     },
     "execution_count": 59,
     "metadata": {},
     "output_type": "execute_result"
    }
   ],
   "source": [
    "y, z = symbols(\"y, z\")\n",
    "linsolve([x + y + z - 1, x + y + 2*z - 3 ], (x, y, z))"
   ]
  },
  {
   "cell_type": "code",
   "execution_count": 63,
   "metadata": {},
   "outputs": [
    {
     "data": {
      "image/png": "[encoded data removed]",
      "text/latex": [
       "$$14.8145199044721$$"
      ],
      "text/plain": [
       "14.8145199044721"
      ]
     },
     "execution_count": 63,
     "metadata": {},
     "output_type": "execute_result"
    }
   ],
   "source": [
    "sqrt(219.47)"
   ]
  },
  {
   "cell_type": "code",
   "execution_count": 68,
   "metadata": {},
   "outputs": [
    {
     "data": {
      "image/png": "[encoded data removed]",
      "text/latex": [
       "$$\\frac{a_{0}}{a_{0} + b_{0}} - 0.6$$"
      ],
      "text/plain": [
       "   a₀        \n",
       "─────── - 0.6\n",
       "a₀ + b₀      "
      ]
     },
     "execution_count": 68,
     "metadata": {},
     "output_type": "execute_result"
    }
   ],
   "source": [
    "μ"
   ]
  },
  {
   "cell_type": "code",
   "execution_count": 67,
   "metadata": {},
   "outputs": [
    {
     "data": {
      "image/png": "[encoded data removed]",
      "text/latex": [
       "$$\\left [ \\frac{2 a_{0}}{3}\\right ]$$"
      ],
      "text/plain": [
       "⎡2⋅a₀⎤\n",
       "⎢────⎥\n",
       "⎣ 3  ⎦"
      ]
     },
     "execution_count": 67,
     "metadata": {},
     "output_type": "execute_result"
    }
   ],
   "source": [
    "solve(μ, b_0, rational=True)"
   ]
  },
  {
   "cell_type": "code",
   "execution_count": 74,
   "metadata": {},
   "outputs": [
    {
     "data": {
      "image/png": "[encoded data removed]",
      "text/latex": [
       "$$\\left\\{\\left ( 89.4\\right )\\right\\}$$"
      ],
      "text/plain": [
       "{(89.4,)}"
      ]
     },
     "execution_count": 74,
     "metadata": {},
     "output_type": "execute_result"
    }
   ],
   "source": [
    "substitution([σ], [a_0], [{b_0: 2*a_0/3}])"
   ]
  },
  {
   "cell_type": "code",
   "execution_count": 79,
   "metadata": {},
   "outputs": [
    {
     "data": {
      "image/png": "[encoded data removed]",
      "text/latex": [
       "$$\\left\\{\\left ( - z\\right )\\right\\}$$"
      ],
      "text/plain": [
       "{(-z,)}"
      ]
     },
     "execution_count": 79,
     "metadata": {},
     "output_type": "execute_result"
    }
   ],
   "source": [
    "substitution([x+2*y+z], [x], [{y:0}])"
   ]
  },
  {
   "cell_type": "code",
   "execution_count": 109,
   "metadata": {},
   "outputs": [
    {
     "name": "stdout",
     "output_type": "stream",
     "text": [
      "CPU times: user 234 µs, sys: 0 ns, total: 234 µs\n",
      "Wall time: 239 µs\n"
     ]
    }
   ],
   "source": [
    "%%time\n",
    "a_1, b_1, θ = symbols(\"a_1, b_1, θ\")\n",
    "f_x = (a_1-1)/θ - (b_1-1)/(1-θ)"
   ]
  },
  {
   "cell_type": "code",
   "execution_count": 108,
   "metadata": {},
   "outputs": [
    {
     "data": {
      "image/png": "[encoded data removed]",
      "text/latex": [
       "$$- \\frac{b_{1} - 1}{- θ + 1} + \\frac{1}{θ} \\left(a_{1} - 1\\right)$$"
      ],
      "text/plain": [
       "  b₁ - 1   a₁ - 1\n",
       "- ────── + ──────\n",
       "  -θ + 1     θ   "
      ]
     },
     "execution_count": 108,
     "metadata": {},
     "output_type": "execute_result"
    }
   ],
   "source": [
    "f_x"
   ]
  },
  {
   "cell_type": "code",
   "execution_count": 101,
   "metadata": {},
   "outputs": [
    {
     "name": "stdout",
     "output_type": "stream",
     "text": [
      "CPU times: user 18.7 ms, sys: 0 ns, total: 18.7 ms\n",
      "Wall time: 18.5 ms\n"
     ]
    },
    {
     "data": {
      "image/png": "[encoded data removed]",
      "text/latex": [
       "$$\\left [ \\frac{a_{1} - 1}{a_{1} + b_{1} - 2}\\right ]$$"
      ],
      "text/plain": [
       "⎡   a₁ - 1  ⎤\n",
       "⎢───────────⎥\n",
       "⎣a₁ + b₁ - 2⎦"
      ]
     },
     "execution_count": 101,
     "metadata": {},
     "output_type": "execute_result"
    }
   ],
   "source": [
    "%%time\n",
    "solve(f_x, θ)"
   ]
  },
  {
   "cell_type": "code",
   "execution_count": 111,
   "metadata": {},
   "outputs": [
    {
     "data": {
      "image/png": "[encoded data removed]",
      "text/latex": [
       "$$- \\frac{b_{1} - 1}{\\left(- θ + 1\\right)^{2}} - \\frac{1}{θ^{2}} \\left(a_{1} - 1\\right)$$"
      ],
      "text/plain": [
       "    b₁ - 1    a₁ - 1\n",
       "- ───────── - ──────\n",
       "          2      2  \n",
       "  (-θ + 1)      θ   "
      ]
     },
     "execution_count": 111,
     "metadata": {},
     "output_type": "execute_result"
    }
   ],
   "source": [
    "diff(f_x, θ)"
   ]
  },
  {
   "cell_type": "markdown",
   "metadata": {},
   "source": [
    "### 17/09/2018"
   ]
  },
  {
   "cell_type": "code",
   "execution_count": 112,
   "metadata": {},
   "outputs": [],
   "source": [
    "import mpmath as mp"
   ]
  },
  {
   "cell_type": "code",
   "execution_count": 115,
   "metadata": {},
   "outputs": [],
   "source": [
    "η = mp.ln(0.6/0.4)"
   ]
  },
  {
   "cell_type": "code",
   "execution_count": 116,
   "metadata": {},
   "outputs": [
    {
     "data": {
      "text/plain": [
       "mpf('0.59999999999999987')"
      ]
     },
     "execution_count": 116,
     "metadata": {},
     "output_type": "execute_result"
    }
   ],
   "source": [
    "mp.exp(η) / (1+mp.exp(η))"
   ]
  },
  {
   "cell_type": "code",
   "execution_count": 117,
   "metadata": {},
   "outputs": [
    {
     "data": {
      "text/plain": [
       "mpf('0.20000000000000001')"
      ]
     },
     "execution_count": 117,
     "metadata": {},
     "output_type": "execute_result"
    }
   ],
   "source": [
    "mp.sqrt(0.04)"
   ]
  }
 ],
 "metadata": {
  "kernelspec": {
   "display_name": "Python 3",
   "language": "python",
   "name": "python3"
  },
  "language_info": {
   "codemirror_mode": {
    "name": "ipython",
    "version": 3
   },
   "file_extension": ".py",
   "mimetype": "text/x-python",
   "name": "python",
   "nbconvert_exporter": "python",
   "pygments_lexer": "ipython3",
   "version": "3.6.3"
  }
 },
 "nbformat": 4,
 "nbformat_minor": 2
}
